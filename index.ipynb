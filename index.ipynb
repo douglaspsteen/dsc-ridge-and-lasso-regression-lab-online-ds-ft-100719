{
 "cells": [
  {
   "cell_type": "markdown",
   "metadata": {},
   "source": [
    "# Ridge and Lasso Regression - Lab"
   ]
  },
  {
   "cell_type": "markdown",
   "metadata": {},
   "source": [
    "## Introduction"
   ]
  },
  {
   "cell_type": "markdown",
   "metadata": {},
   "source": [
    "In this lab, you'll practice your knowledge of Ridge and Lasso regression!"
   ]
  },
  {
   "cell_type": "markdown",
   "metadata": {},
   "source": [
    "## Objectives"
   ]
  },
  {
   "cell_type": "markdown",
   "metadata": {},
   "source": [
    "In this lab you will: \n",
    "\n",
    "- Use Lasso and Ridge regression with scikit-learn \n",
    "- Compare and contrast Lasso, Ridge and non-regularized regression "
   ]
  },
  {
   "cell_type": "markdown",
   "metadata": {},
   "source": [
    "## Housing Prices Data"
   ]
  },
  {
   "cell_type": "markdown",
   "metadata": {},
   "source": [
    "Let's look at yet another house pricing dataset: "
   ]
  },
  {
   "cell_type": "code",
   "execution_count": 13,
   "metadata": {},
   "outputs": [],
   "source": [
    "import pandas as pd\n",
    "import numpy as np\n",
    "from sklearn.model_selection import train_test_split\n",
    "import warnings\n",
    "warnings.filterwarnings('ignore')\n",
    "\n",
    "df = pd.read_csv('Housing_Prices/train.csv')"
   ]
  },
  {
   "cell_type": "markdown",
   "metadata": {},
   "source": [
    "Look at `.info()` of the data: "
   ]
  },
  {
   "cell_type": "code",
   "execution_count": 14,
   "metadata": {},
   "outputs": [
    {
     "name": "stdout",
     "output_type": "stream",
     "text": [
      "<class 'pandas.core.frame.DataFrame'>\n",
      "RangeIndex: 1460 entries, 0 to 1459\n",
      "Data columns (total 81 columns):\n",
      "Id               1460 non-null int64\n",
      "MSSubClass       1460 non-null int64\n",
      "MSZoning         1460 non-null object\n",
      "LotFrontage      1201 non-null float64\n",
      "LotArea          1460 non-null int64\n",
      "Street           1460 non-null object\n",
      "Alley            91 non-null object\n",
      "LotShape         1460 non-null object\n",
      "LandContour      1460 non-null object\n",
      "Utilities        1460 non-null object\n",
      "LotConfig        1460 non-null object\n",
      "LandSlope        1460 non-null object\n",
      "Neighborhood     1460 non-null object\n",
      "Condition1       1460 non-null object\n",
      "Condition2       1460 non-null object\n",
      "BldgType         1460 non-null object\n",
      "HouseStyle       1460 non-null object\n",
      "OverallQual      1460 non-null int64\n",
      "OverallCond      1460 non-null int64\n",
      "YearBuilt        1460 non-null int64\n",
      "YearRemodAdd     1460 non-null int64\n",
      "RoofStyle        1460 non-null object\n",
      "RoofMatl         1460 non-null object\n",
      "Exterior1st      1460 non-null object\n",
      "Exterior2nd      1460 non-null object\n",
      "MasVnrType       1452 non-null object\n",
      "MasVnrArea       1452 non-null float64\n",
      "ExterQual        1460 non-null object\n",
      "ExterCond        1460 non-null object\n",
      "Foundation       1460 non-null object\n",
      "BsmtQual         1423 non-null object\n",
      "BsmtCond         1423 non-null object\n",
      "BsmtExposure     1422 non-null object\n",
      "BsmtFinType1     1423 non-null object\n",
      "BsmtFinSF1       1460 non-null int64\n",
      "BsmtFinType2     1422 non-null object\n",
      "BsmtFinSF2       1460 non-null int64\n",
      "BsmtUnfSF        1460 non-null int64\n",
      "TotalBsmtSF      1460 non-null int64\n",
      "Heating          1460 non-null object\n",
      "HeatingQC        1460 non-null object\n",
      "CentralAir       1460 non-null object\n",
      "Electrical       1459 non-null object\n",
      "1stFlrSF         1460 non-null int64\n",
      "2ndFlrSF         1460 non-null int64\n",
      "LowQualFinSF     1460 non-null int64\n",
      "GrLivArea        1460 non-null int64\n",
      "BsmtFullBath     1460 non-null int64\n",
      "BsmtHalfBath     1460 non-null int64\n",
      "FullBath         1460 non-null int64\n",
      "HalfBath         1460 non-null int64\n",
      "BedroomAbvGr     1460 non-null int64\n",
      "KitchenAbvGr     1460 non-null int64\n",
      "KitchenQual      1460 non-null object\n",
      "TotRmsAbvGrd     1460 non-null int64\n",
      "Functional       1460 non-null object\n",
      "Fireplaces       1460 non-null int64\n",
      "FireplaceQu      770 non-null object\n",
      "GarageType       1379 non-null object\n",
      "GarageYrBlt      1379 non-null float64\n",
      "GarageFinish     1379 non-null object\n",
      "GarageCars       1460 non-null int64\n",
      "GarageArea       1460 non-null int64\n",
      "GarageQual       1379 non-null object\n",
      "GarageCond       1379 non-null object\n",
      "PavedDrive       1460 non-null object\n",
      "WoodDeckSF       1460 non-null int64\n",
      "OpenPorchSF      1460 non-null int64\n",
      "EnclosedPorch    1460 non-null int64\n",
      "3SsnPorch        1460 non-null int64\n",
      "ScreenPorch      1460 non-null int64\n",
      "PoolArea         1460 non-null int64\n",
      "PoolQC           7 non-null object\n",
      "Fence            281 non-null object\n",
      "MiscFeature      54 non-null object\n",
      "MiscVal          1460 non-null int64\n",
      "MoSold           1460 non-null int64\n",
      "YrSold           1460 non-null int64\n",
      "SaleType         1460 non-null object\n",
      "SaleCondition    1460 non-null object\n",
      "SalePrice        1460 non-null int64\n",
      "dtypes: float64(3), int64(35), object(43)\n",
      "memory usage: 924.0+ KB\n"
     ]
    }
   ],
   "source": [
    "# Your code here\n",
    "df.info()"
   ]
  },
  {
   "cell_type": "markdown",
   "metadata": {},
   "source": [
    "- First, split the data into `X` (predictor) and `y` (target) variables \n",
    "- Split the data into 75-25 training-test sets. Set the `random_state` to 10 \n",
    "- Remove all columns of `object` type from `X_train` and `X_test` and assign them to `X_train_cont` and `X_test_cont`, respectively "
   ]
  },
  {
   "cell_type": "code",
   "execution_count": 15,
   "metadata": {},
   "outputs": [],
   "source": [
    "# Create X and y\n",
    "y = df['SalePrice']\n",
    "X = df.drop(labels=['SalePrice'], axis=1)\n",
    "\n",
    "# Split data into training and test sets\n",
    "X_train, X_test, y_train, y_test = train_test_split(X, y, random_state=10)\n",
    "\n",
    "# Remove \"object\"-type features from X\n",
    "cont_features = [col for col in X.columns if X[col].dtype in [np.float64, np.int64]]\n",
    "\n",
    "# Remove \"object\"-type features from X_train and X_test\n",
    "X_train_cont = X_train.loc[:, cont_features]\n",
    "X_test_cont = X_test.loc[:, cont_features]"
   ]
  },
  {
   "cell_type": "markdown",
   "metadata": {},
   "source": [
    "## Let's use this data to build a first naive linear regression model"
   ]
  },
  {
   "cell_type": "markdown",
   "metadata": {},
   "source": [
    "- Fill the missing values in data using median of the columns (use [`SimpleImputer`](https://scikit-learn.org/stable/modules/generated/sklearn.impute.SimpleImputer.html)) \n",
    "- Fit a linear regression model to this data \n",
    "- Compute the R-squared and the MSE for both the training and test sets \n"
   ]
  },
  {
   "cell_type": "code",
   "execution_count": 16,
   "metadata": {},
   "outputs": [
    {
     "name": "stdout",
     "output_type": "stream",
     "text": [
      "TRAIN SET:\n",
      "R^2: 0.8069714678400265\n",
      "MSE: 1212415985.7084064\n",
      "\n",
      "\n",
      "TEST SET:\n",
      "R^2: 0.8202362411915377\n",
      "MSE: 1146926057.153154\n"
     ]
    }
   ],
   "source": [
    "from sklearn.metrics import mean_squared_error, mean_squared_log_error\n",
    "from sklearn.linear_model import LinearRegression\n",
    "from sklearn.impute import SimpleImputer\n",
    "\n",
    "# Impute missing values with median using SimpleImputer\n",
    "impute = SimpleImputer(strategy='median')\n",
    "X_train_imputed = impute.fit_transform(X_train_cont)\n",
    "X_test_imputed = impute.fit_transform(X_test_cont)\n",
    "\n",
    "# Fit the model and print R2 and MSE for training and test sets\n",
    "linreg = LinearRegression().fit(X_train_imputed, y_train)\n",
    "\n",
    "train_model = linreg.predict(X_train_imputed)\n",
    "test_model = linreg.predict(X_test_imputed)\n",
    "\n",
    "train_r2 = linreg.score(X_train_imputed, y_train)\n",
    "train_mse = mean_squared_error(y_train, train_model)\n",
    "\n",
    "test_r2 = linreg.score(X_test_imputed, y_test)\n",
    "test_mse = mean_squared_error(y_test, test_model)\n",
    "\n",
    "# Print R2 and MSE for training and test sets\n",
    "print(f'TRAIN SET:\\nR^2: {train_r2}\\nMSE: {train_mse}')\n",
    "print('\\n')\n",
    "print(f'TEST SET:\\nR^2: {test_r2}\\nMSE: {test_mse}')\n"
   ]
  },
  {
   "cell_type": "markdown",
   "metadata": {},
   "source": [
    "## Normalize your data"
   ]
  },
  {
   "cell_type": "markdown",
   "metadata": {},
   "source": [
    "- Normalize your data using a `StandardScalar`  \n",
    "- Fit a linear regression model to this data \n",
    "- Compute the R-squared and the MSE for both the training and test sets \n"
   ]
  },
  {
   "cell_type": "code",
   "execution_count": 17,
   "metadata": {},
   "outputs": [
    {
     "name": "stdout",
     "output_type": "stream",
     "text": [
      "TRAIN SET:\n",
      "R^2: 0.8070159754195584\n",
      "MSE: 1212136432.7308965\n",
      "\n",
      "\n",
      "TEST SET:\n",
      "R^2: 0.8201539233754344\n",
      "MSE: 1147451260.0576918\n"
     ]
    }
   ],
   "source": [
    "from sklearn.preprocessing import StandardScaler\n",
    "\n",
    "# Scale the train and test data\n",
    "ss = StandardScaler()\n",
    "X_train_imputed_scaled = ss.fit_transform(X_train_imputed)\n",
    "X_test_imputed_scaled = ss.transform(X_test_imputed)\n",
    "\n",
    "# Fit the model\n",
    "linreg_norm = LinearRegression().fit(X_train_imputed_scaled, y_train)\n",
    "\n",
    "# Print R2 and MSE for training and test sets\n",
    "print('TRAIN SET:')\n",
    "print(f'R^2: {linreg_norm.score(X_train_imputed_scaled, y_train)}')\n",
    "print(f'MSE: {mean_squared_error(y_train, linreg_norm.predict(X_train_imputed_scaled))}')\n",
    "print('\\n')\n",
    "print('TEST SET:')\n",
    "print(f'R^2: {linreg_norm.score(X_test_imputed_scaled, y_test)}')\n",
    "print(f'MSE: {mean_squared_error(y_test, linreg_norm.predict(X_test_imputed_scaled))}')"
   ]
  },
  {
   "cell_type": "markdown",
   "metadata": {},
   "source": [
    "## Include categorical variables"
   ]
  },
  {
   "cell_type": "markdown",
   "metadata": {},
   "source": [
    "The above models didn't include categorical variables so far, let's include them! \n",
    "\n",
    "\n",
    "- Include all columns of `object` type from `X_train` and `X_test` and assign them to `X_train_cat` and `X_test_cat`, respectively \n",
    "- Fill missing values in all these columns with the string `'missing'` "
   ]
  },
  {
   "cell_type": "code",
   "execution_count": 18,
   "metadata": {},
   "outputs": [],
   "source": [
    "# Create X_cat which contains only the categorical variables\n",
    "features_cat = [col for col in X.columns if X[col].dtype in [np.object]]\n",
    "X_train_cat = X_train.loc[:, features_cat]\n",
    "X_test_cat = X_test.loc[:, features_cat]\n",
    "\n",
    "# Fill missing values with the string 'missing'\n",
    "X_train_cat.fillna(value='missing', inplace=True)\n",
    "X_test_cat.fillna(value='missing', inplace=True)"
   ]
  },
  {
   "cell_type": "markdown",
   "metadata": {},
   "source": [
    "- One-hot encode all these categorical columns using `OneHotEncoder` \n",
    "- Transform the training and test DataFrames (`X_train_cat`) and (`X_test_cat`) \n",
    "- Run the given code to convert these transformed features into DataFrames "
   ]
  },
  {
   "cell_type": "code",
   "execution_count": 22,
   "metadata": {},
   "outputs": [],
   "source": [
    "from sklearn.preprocessing import OneHotEncoder\n",
    "\n",
    "# OneHotEncode categorical variables\n",
    "ohe = OneHotEncoder(handle_unknown='ignore')\n",
    "\n",
    "# Transform training and test sets\n",
    "X_train_ohe = ohe.fit_transform(X_train_cat)\n",
    "X_test_ohe = ohe.transform(X_test_cat)\n",
    "\n",
    "# Convert these columns into a DataFrame\n",
    "columns = ohe.get_feature_names(input_features=X_train_cat.columns)\n",
    "cat_train_df = pd.DataFrame(X_train_ohe.todense(), columns=columns)\n",
    "cat_test_df = pd.DataFrame(X_test_ohe.todense(), columns=columns)"
   ]
  },
  {
   "cell_type": "markdown",
   "metadata": {},
   "source": [
    "- Combine `X_train_imputed_scaled` and `cat_train_df` into a single DataFrame  \n",
    "- Similarly, combine `X_test_imputed_scaled` and `cat_test_df` into a single DataFrame "
   ]
  },
  {
   "cell_type": "code",
   "execution_count": 24,
   "metadata": {},
   "outputs": [],
   "source": [
    "# Your code here\n",
    "X_train_all = pd.concat([pd.DataFrame(X_train_imputed_scaled), cat_train_df], axis=1)\n",
    "X_test_all = pd.concat([pd.DataFrame(X_test_imputed_scaled), cat_test_df], axis=1)"
   ]
  },
  {
   "cell_type": "markdown",
   "metadata": {},
   "source": [
    "Now build a linear regression model using all the features (`X_train_all`). Also, print the R-squared and the MSE for both the training and test sets. "
   ]
  },
  {
   "cell_type": "code",
   "execution_count": 26,
   "metadata": {},
   "outputs": [
    {
     "name": "stdout",
     "output_type": "stream",
     "text": [
      "TRAIN SET:\n",
      "R^2: 0.9360007807588508\n",
      "MSE: 401980347.7369863\n",
      "\n",
      "\n",
      "TEST SET:\n",
      "R^2: -9.033845196049423e+18\n",
      "MSE: 5.763760460013911e+28\n"
     ]
    }
   ],
   "source": [
    "# Fit the model\n",
    "linreg_all = LinearRegression().fit(X_train_all, y_train)\n",
    "\n",
    "# Print R2 and MSE for training and test sets\n",
    "print('TRAIN SET:')\n",
    "print(f'R^2: {linreg_all.score(X_train_all, y_train)}')\n",
    "print(f'MSE: {mean_squared_error(y_train, linreg_all.predict(X_train_all))}')\n",
    "print('\\n')\n",
    "print('TEST SET:')\n",
    "print(f'R^2: {linreg_all.score(X_test_all, y_test)}')\n",
    "print(f'MSE: {mean_squared_error(y_test, linreg_all.predict(X_test_all))}')"
   ]
  },
  {
   "cell_type": "markdown",
   "metadata": {},
   "source": [
    "Notice the severe overfitting above; our training R-squared is very high, but the test R-squared is negative! Similarly, the scale of the test MSE is orders of magnitude higher than that of the training MSE."
   ]
  },
  {
   "cell_type": "markdown",
   "metadata": {},
   "source": [
    "## Ridge and Lasso regression"
   ]
  },
  {
   "cell_type": "markdown",
   "metadata": {},
   "source": [
    "Use all the data (normalized features and dummy categorical variables, `X_train_all`) to build two models - one each for Lasso and Ridge regression. Each time, look at R-squared and MSE. "
   ]
  },
  {
   "cell_type": "markdown",
   "metadata": {},
   "source": [
    "## Lasso"
   ]
  },
  {
   "cell_type": "code",
   "execution_count": 28,
   "metadata": {},
   "outputs": [],
   "source": [
    "from sklearn.linear_model import Lasso"
   ]
  },
  {
   "cell_type": "markdown",
   "metadata": {},
   "source": [
    "#### With default parameter (alpha = 1)"
   ]
  },
  {
   "cell_type": "code",
   "execution_count": 29,
   "metadata": {},
   "outputs": [
    {
     "name": "stdout",
     "output_type": "stream",
     "text": [
      "TRAIN SET:\n",
      "R^2: 0.9359681086176651\n",
      "MSE: 402185562.0947691\n",
      "\n",
      "\n",
      "TEST SET:\n",
      "R^2: 0.8886774108036875\n",
      "MSE: 710258725.9262216\n"
     ]
    }
   ],
   "source": [
    "# Fit the model\n",
    "linreg_lasso = Lasso().fit(X_train_all, y_train)\n",
    "\n",
    "# Print R2 and MSE for training and test sets\n",
    "print('TRAIN SET:')\n",
    "print(f'R^2: {linreg_lasso.score(X_train_all, y_train)}')\n",
    "print(f'MSE: {mean_squared_error(y_train, linreg_lasso.predict(X_train_all))}')\n",
    "print('\\n')\n",
    "print('TEST SET:')\n",
    "print(f'R^2: {linreg_lasso.score(X_test_all, y_test)}')\n",
    "print(f'MSE: {mean_squared_error(y_test, linreg_lasso.predict(X_test_all))}')"
   ]
  },
  {
   "cell_type": "markdown",
   "metadata": {},
   "source": [
    "#### With a higher regularization parameter (alpha = 10)"
   ]
  },
  {
   "cell_type": "code",
   "execution_count": 30,
   "metadata": {},
   "outputs": [
    {
     "name": "stdout",
     "output_type": "stream",
     "text": [
      "TRAIN SET:\n",
      "R^2: 0.9343826511712741\n",
      "MSE: 412143851.32359594\n",
      "\n",
      "\n",
      "TEST SET:\n",
      "R^2: 0.8966769715994978\n",
      "MSE: 659220047.2553365\n"
     ]
    }
   ],
   "source": [
    "# Fit the model\n",
    "linreg_lasso = Lasso(alpha=10).fit(X_train_all, y_train)\n",
    "\n",
    "# Print R2 and MSE for training and test sets\n",
    "print('TRAIN SET:')\n",
    "print(f'R^2: {linreg_lasso.score(X_train_all, y_train)}')\n",
    "print(f'MSE: {mean_squared_error(y_train, linreg_lasso.predict(X_train_all))}')\n",
    "print('\\n')\n",
    "print('TEST SET:')\n",
    "print(f'R^2: {linreg_lasso.score(X_test_all, y_test)}')\n",
    "print(f'MSE: {mean_squared_error(y_test, linreg_lasso.predict(X_test_all))}')"
   ]
  },
  {
   "cell_type": "markdown",
   "metadata": {},
   "source": [
    "## Ridge"
   ]
  },
  {
   "cell_type": "code",
   "execution_count": 31,
   "metadata": {},
   "outputs": [],
   "source": [
    "from sklearn.linear_model import Ridge"
   ]
  },
  {
   "cell_type": "markdown",
   "metadata": {},
   "source": [
    "#### With default parameter (alpha = 1)"
   ]
  },
  {
   "cell_type": "code",
   "execution_count": 32,
   "metadata": {},
   "outputs": [
    {
     "name": "stdout",
     "output_type": "stream",
     "text": [
      "TRAIN SET:\n",
      "R^2: 0.9231940244796031\n",
      "MSE: 482419834.3987995\n",
      "\n",
      "\n",
      "TEST SET:\n",
      "R^2: 0.8842262846359507\n",
      "MSE: 738657734.821519\n"
     ]
    }
   ],
   "source": [
    "# Fit the model\n",
    "linreg_ridge = Ridge().fit(X_train_all, y_train)\n",
    "\n",
    "# Print R2 and MSE for training and test sets\n",
    "print('TRAIN SET:')\n",
    "print(f'R^2: {linreg_ridge.score(X_train_all, y_train)}')\n",
    "print(f'MSE: {mean_squared_error(y_train, linreg_ridge.predict(X_train_all))}')\n",
    "print('\\n')\n",
    "print('TEST SET:')\n",
    "print(f'R^2: {linreg_ridge.score(X_test_all, y_test)}')\n",
    "print(f'MSE: {mean_squared_error(y_test, linreg_ridge.predict(X_test_all))}')"
   ]
  },
  {
   "cell_type": "markdown",
   "metadata": {},
   "source": [
    "#### With default parameter (alpha = 10)"
   ]
  },
  {
   "cell_type": "code",
   "execution_count": 33,
   "metadata": {},
   "outputs": [
    {
     "name": "stdout",
     "output_type": "stream",
     "text": [
      "TRAIN SET:\n",
      "R^2: 0.8990002650425939\n",
      "MSE: 634381310.5991352\n",
      "\n",
      "\n",
      "TEST SET:\n",
      "R^2: 0.8834211676790179\n",
      "MSE: 743794530.0414383\n"
     ]
    }
   ],
   "source": [
    "# Fit the model\n",
    "linreg_ridge = Ridge(alpha=10).fit(X_train_all, y_train)\n",
    "\n",
    "# Print R2 and MSE for training and test sets\n",
    "print('TRAIN SET:')\n",
    "print(f'R^2: {linreg_ridge.score(X_train_all, y_train)}')\n",
    "print(f'MSE: {mean_squared_error(y_train, linreg_ridge.predict(X_train_all))}')\n",
    "print('\\n')\n",
    "print('TEST SET:')\n",
    "print(f'R^2: {linreg_ridge.score(X_test_all, y_test)}')\n",
    "print(f'MSE: {mean_squared_error(y_test, linreg_ridge.predict(X_test_all))}')"
   ]
  },
  {
   "cell_type": "markdown",
   "metadata": {},
   "source": [
    "## Compare the metrics    \n",
    "\n",
    "Write your conclusions here: \n",
    "_________________________________\n"
   ]
  },
  {
   "cell_type": "markdown",
   "metadata": {},
   "source": [
    "## Compare number of parameter estimates that are (very close to) 0 for Ridge and Lasso\n",
    "\n",
    "Use 10**(-10) as an estimate that is very close to 0. "
   ]
  },
  {
   "cell_type": "code",
   "execution_count": 34,
   "metadata": {},
   "outputs": [
    {
     "data": {
      "text/plain": [
       "array([ 1.32071777e+02, -5.48849025e+03, -2.68859602e+03,  5.29799246e+03,\n",
       "        1.39218244e+04,  5.81291885e+03,  5.93937990e+03,  5.72902357e+02,\n",
       "        3.54740354e+03, -1.90099287e+03,  5.37905817e+02,  3.37093342e+02,\n",
       "       -1.48959530e+03,  5.88588064e+03,  1.32365195e+04, -4.77304578e+02,\n",
       "        1.51360684e+04,  4.54391601e+03,  5.74131930e+02,  4.19457937e+03,\n",
       "        2.69105269e+02, -2.46555734e+03, -2.97572361e+03,  4.93504135e+03,\n",
       "        2.12193457e+03, -1.22384216e+03,  1.04864734e+04, -2.84531597e+02,\n",
       "        3.55397025e+03, -1.80588277e+02,  8.36595398e+02,  1.46602496e+03,\n",
       "        2.22867514e+03,  2.18618099e+03, -7.39828815e+01, -5.25478957e+02,\n",
       "       -9.97602002e+02, -1.08610848e+04,  7.41368229e+03,  2.82841149e+03,\n",
       "        2.85740601e+03, -2.23841501e+03, -7.16215784e+03,  7.16215784e+03,\n",
       "       -6.83271433e+02,  5.48263453e+02,  1.35007980e+02,  1.12749743e+03,\n",
       "        6.78937276e+03, -8.13908275e+03,  2.22212558e+02, -1.35850073e+04,\n",
       "        5.49836388e+03,  2.02023779e+03,  6.06640561e+03,  3.66423688e+03,\n",
       "       -3.66423688e+03,  1.56588782e+03,  9.64468462e+03, -6.54827580e+03,\n",
       "       -3.90639865e+03, -7.55897993e+02, -1.09121329e+03,  1.09144388e+04,\n",
       "       -9.82322555e+03, -4.49767354e+03, -1.17038335e+03,  5.48821080e+02,\n",
       "        4.05362208e+03, -5.21596174e+03, -5.49327624e+03,  1.14762347e+04,\n",
       "       -1.58084336e+04, -6.56522693e+03, -3.99342151e+03, -2.49789527e+03,\n",
       "       -1.17387129e+04, -6.92536657e+03,  2.33858684e+02, -1.00872908e+04,\n",
       "        3.16595541e+04,  1.77606521e+04, -6.98191896e+03, -4.22308468e+03,\n",
       "       -5.72097514e+03, -1.60558905e+03,  6.11971106e+03,  2.13989689e+04,\n",
       "       -1.20583572e+03,  4.79623195e+02, -2.34192311e+03, -3.22678943e+03,\n",
       "        9.81940040e+03,  2.71004083e+03, -6.04177581e+03, -2.90625158e+03,\n",
       "        5.04784060e+03, -2.33832764e+03, -7.22214264e+02,  3.01991851e+03,\n",
       "        3.80890841e+03,  9.62095592e+03,  3.56730591e+03, -2.23878439e+04,\n",
       "       -7.17787198e+02,  1.76866932e+03,  1.31987299e+03,  3.13920255e+03,\n",
       "        5.01288336e+03,  1.85237771e+03, -6.04380504e+03, -3.96065858e+03,\n",
       "       -3.66136755e+03,  6.06961942e+03,  7.53163032e+03, -4.31547636e+03,\n",
       "        1.13221041e+03, -9.64737787e+03,  2.28480126e+03,  6.05960377e+02,\n",
       "       -4.26992106e+03, -1.64291410e+03, -1.42903919e+03,  1.68857530e+03,\n",
       "        2.44645037e+03,  3.20684868e+03, -2.63194032e+04,  1.35632769e+03,\n",
       "       -2.11294424e+03,  3.12431710e+02,  2.67635880e+04, -1.53201840e+03,\n",
       "       -1.10654388e+03, -1.33795757e+03,  1.02615841e+04,  4.12346725e+03,\n",
       "       -2.41126248e+03, -1.57101500e+03, -5.91996059e+02,  4.76027142e+02,\n",
       "       -2.86235539e+02, -5.20697380e+03,  1.82902145e+03, -1.62205281e+03,\n",
       "       -1.02404439e+03, -2.33345242e+03,  1.79506724e+02, -2.74980642e+03,\n",
       "       -1.52022224e+02,  1.62628451e+03, -1.33959064e+02,  1.39374870e+04,\n",
       "        2.91129215e+02,  7.36076363e+02, -2.57235066e+03,  3.84443370e+02,\n",
       "       -7.54857254e+03, -5.42218873e+02,  1.36757445e+03, -2.49011946e+03,\n",
       "       -3.88314382e+03, -1.33202824e+03,  3.99200884e+03,  1.79139216e+03,\n",
       "       -5.68228941e+02,  8.29781171e+03,  1.81670868e+03, -2.45763424e+03,\n",
       "       -7.65688616e+03,  2.31961197e+03,  2.78613657e+03, -2.96852199e+03,\n",
       "       -7.90397258e+02, -1.34682929e+03, -3.09777048e+03,  1.55201025e+03,\n",
       "        3.91184777e+03, -3.21761720e+03,  1.55701013e+03, -7.05480470e+02,\n",
       "        1.66410989e+04, -2.11295709e+03, -7.01541541e+03, -5.22620282e+03,\n",
       "       -2.28652355e+03, -1.39720483e+03, -1.59012361e+03, -1.76765307e+02,\n",
       "        5.45061729e+03, -2.28652355e+03,  6.95065374e+02,  1.18318245e+04,\n",
       "       -3.16908816e+03, -7.07127817e+03, -2.28652355e+03,  1.69688798e+03,\n",
       "        3.66480185e+03,  4.09802009e+03,  1.05166170e+02,  1.21340743e+03,\n",
       "       -8.49175999e+03, -2.28652355e+03, -1.32545496e+03, -2.06237200e+03,\n",
       "       -1.36070912e+03, -1.39319436e+03,  2.62634219e+03,  5.80191179e+03,\n",
       "       -2.28652355e+03, -2.29738149e+02, -4.72180842e+02,  2.06101376e+03,\n",
       "        4.76503946e+02, -3.96411264e+03,  2.12851392e+03,  2.31052168e+03,\n",
       "       -6.72974226e+02, -1.49238039e+03, -1.45167071e+02, -6.26853028e+02,\n",
       "        6.26853028e+02,  1.08740639e+03, -5.50559898e+02,  7.61200964e+02,\n",
       "       -1.76765307e+02, -1.12128214e+03,  1.73655265e+04, -1.60008042e+03,\n",
       "       -9.01211447e+03, -6.75333159e+03, -2.18160357e+03, -4.12948011e+03,\n",
       "       -2.48544287e+03,  6.48779270e+02, -4.75009827e+02,  8.62275710e+03,\n",
       "        1.17539010e+04, -3.33423517e+03, -3.76038621e+03,  8.17112477e+02,\n",
       "       -2.84846656e+03, -2.62792556e+03, -5.28918487e+03,  1.96820101e+03,\n",
       "        3.41728621e+02,  1.37256347e+03,  9.01869050e+02, -8.02940118e+02,\n",
       "        1.50776284e+03, -9.94115342e+01, -1.68250109e+03,  2.74149782e+02,\n",
       "        1.50776284e+03,  7.50645535e+03, -6.33655367e+03,  6.20766526e+03,\n",
       "       -1.55418724e+03, -7.33114253e+03,  1.50776284e+03,  1.05201484e+02,\n",
       "       -1.28601512e+03,  1.13452808e+03, -8.36958662e+02, -6.24518621e+02,\n",
       "        1.50776284e+03,  6.78169506e+02, -1.53458971e+03,  8.56420202e+02,\n",
       "        1.67637903e+04, -4.22735451e+02, -2.09080570e+04,  4.56700215e+03,\n",
       "       -3.00768301e+03,  6.98627126e+01,  3.78445359e+03, -1.17003770e+03,\n",
       "        3.23404407e+02, -9.14119604e+02, -1.33379313e+01, -1.64608924e+03,\n",
       "        2.57354677e+03, -5.30479955e+03,  4.11339044e+03, -3.45068201e+02,\n",
       "        2.55154054e+03,  2.10664598e+03, -1.42236246e+03,  4.94596354e+03,\n",
       "       -7.62971928e+02, -5.88233835e+03, -3.92371661e+03,  1.82532235e+03,\n",
       "        8.65226329e+02, -4.98664553e+03,  3.97668419e+03,  2.24312927e+03])"
      ]
     },
     "execution_count": 34,
     "metadata": {},
     "output_type": "execute_result"
    }
   ],
   "source": [
    "# Number of Ridge params almost zero\n",
    "linreg_ridge.coef_"
   ]
  },
  {
   "cell_type": "code",
   "execution_count": 35,
   "metadata": {},
   "outputs": [
    {
     "data": {
      "text/plain": [
       "array([ 7.78916533e+02, -2.36545968e+03,  1.35534291e+03,  8.32258601e+03,\n",
       "        1.03942991e+04,  6.61347355e+03,  1.01891634e+04,  1.39428273e+03,\n",
       "        3.68439741e+03,  5.23083320e+03,  1.55272809e+03, -0.00000000e+00,\n",
       "        8.19053712e+03,  1.10853716e+04,  2.09538403e+04, -5.27740963e+02,\n",
       "        7.52568815e+03,  1.55842909e+03,  1.95938394e+02,  1.92576162e+03,\n",
       "       -6.30746141e+02, -2.79666637e+03, -2.96740211e+03,  2.84658584e+03,\n",
       "        3.31028014e+03, -4.80748030e+02,  3.89483839e+03,  3.92298433e+03,\n",
       "        2.97829125e+03,  3.40117986e+02, -2.88815393e+02,  8.95015773e+02,\n",
       "        1.59239770e+03,  3.00137292e+03, -2.57424910e+02, -8.43574501e+02,\n",
       "       -6.61385744e+02, -3.23679251e+04,  1.10920776e+04,  0.00000000e+00,\n",
       "        0.00000000e+00, -1.76560172e+03, -4.81636798e+04,  0.00000000e+00,\n",
       "       -0.00000000e+00,  1.30141259e+03, -3.81710408e+02, -3.79456324e+02,\n",
       "        5.59817551e+03,  4.80157766e+02, -8.07356972e+00, -7.38801032e+03,\n",
       "        3.56180579e+03, -7.21899883e+03,  2.39932406e+03,  3.32636831e+04,\n",
       "       -5.55663021e-09,  9.69355554e+02,  1.15812570e+04, -6.21386359e+03,\n",
       "       -1.31808217e+04,  0.00000000e+00, -0.00000000e+00,  1.14107980e+04,\n",
       "       -4.91357654e+04,  7.55601172e+03,  1.51562516e+03,  0.00000000e+00,\n",
       "        5.66509967e+03, -9.31732759e+03, -1.23359764e+03,  1.73514998e+04,\n",
       "       -1.21953875e+04, -1.40700713e+03, -0.00000000e+00, -5.91289649e+03,\n",
       "       -1.39463516e+04, -6.53786737e+03,  1.21960069e+04, -8.83224044e+03,\n",
       "        3.92381624e+04,  2.24164261e+04, -5.69343080e+03, -1.69202833e+03,\n",
       "       -3.68176526e+03,  3.17727462e+03,  4.10817362e+03,  3.74524676e+04,\n",
       "        1.21224847e+03, -0.00000000e+00, -9.66931278e+03, -0.00000000e+00,\n",
       "        8.00811886e+03,  0.00000000e+00,  3.18584162e+03, -1.35973685e+04,\n",
       "        4.13554592e+03, -7.39045884e+03,  0.00000000e+00,  2.71692773e+02,\n",
       "        0.00000000e+00, -1.14950105e+03,  2.29314609e+04, -2.15226992e+05,\n",
       "       -8.09095582e+04, -0.00000000e+00,  0.00000000e+00,  6.78207332e+03,\n",
       "        0.00000000e+00,  0.00000000e+00, -5.28071497e+03, -3.52977663e+03,\n",
       "       -2.32847349e+03,  1.19793380e+04,  2.20093233e+03, -2.15413484e+04,\n",
       "       -0.00000000e+00, -5.88393311e+03,  0.00000000e+00,  1.13242328e+02,\n",
       "       -5.30216432e+03, -1.26259032e+03,  0.00000000e+00, -0.00000000e+00,\n",
       "        1.00007817e+04,  6.88699334e+04, -6.08305736e+05, -0.00000000e+00,\n",
       "        0.00000000e+00,  0.00000000e+00,  5.87376252e+04,  0.00000000e+00,\n",
       "       -0.00000000e+00, -1.63574826e+04,  1.62960185e+04,  2.96401055e+03,\n",
       "       -9.37501012e+02, -1.66981176e+04,  7.25611417e+02, -2.15835811e+03,\n",
       "        0.00000000e+00,  4.33802617e+03,  1.03658056e+03, -0.00000000e+00,\n",
       "       -7.41988727e+02, -8.09876649e+03,  0.00000000e+00, -0.00000000e+00,\n",
       "       -6.85641280e+03,  5.29359318e+03, -0.00000000e+00,  2.24694925e+04,\n",
       "        8.75871421e+02, -0.00000000e+00, -0.00000000e+00,  0.00000000e+00,\n",
       "        0.00000000e+00, -0.00000000e+00,  1.29966813e+03, -0.00000000e+00,\n",
       "       -3.74048231e+03,  0.00000000e+00,  3.94306995e+03,  5.87941984e+03,\n",
       "       -3.16365762e+03,  1.68094243e+04,  1.44007374e+04, -1.96612290e+03,\n",
       "       -1.58382891e+03,  3.21801604e+03,  2.22137329e+03, -2.94564149e+03,\n",
       "       -0.00000000e+00, -4.40398516e+02, -0.00000000e+00,  2.42809570e+03,\n",
       "        5.58032157e+03, -8.11391792e+03,  0.00000000e+00, -6.83501858e+03,\n",
       "        1.42697112e+04, -0.00000000e+00, -5.39402592e+03, -1.65364002e+03,\n",
       "        9.81267713e+03, -0.00000000e+00, -5.66305658e+03, -0.00000000e+00,\n",
       "        1.29640449e+03,  1.40249322e+03, -0.00000000e+00,  1.05627088e+04,\n",
       "       -2.23667441e+03, -5.67281726e+03,  4.93327021e+01, -0.00000000e+00,\n",
       "        2.13937584e+03,  3.38852394e+03, -0.00000000e+00, -2.22531250e+02,\n",
       "       -2.25336507e+03,  2.32426229e+02, -0.00000000e+00, -2.15373484e+02,\n",
       "        4.03682115e+03, -2.87256514e+03, -0.00000000e+00,  4.13764364e+03,\n",
       "        1.84770390e+03, -0.00000000e+00,  3.12520668e+02, -3.99044611e+02,\n",
       "        0.00000000e+00, -2.20799981e+04,  1.50892097e+04,  3.35350698e+03,\n",
       "        2.39263807e+02, -8.61405743e+01, -5.46398912e+02,  5.43842827e+02,\n",
       "       -3.48313494e-12,  4.19551275e+03, -1.14991394e+03,  0.00000000e+00,\n",
       "       -0.00000000e+00, -0.00000000e+00,  2.28050940e+04,  3.45985377e+03,\n",
       "       -3.76252185e+03, -5.18475218e+02, -5.07579609e+03, -7.13684049e+03,\n",
       "        1.08072664e+03,  4.71558717e+03, -3.78241102e+03,  1.18731024e+04,\n",
       "        2.21010755e+03, -1.82825059e+03, -1.45981126e+03,  3.33649804e+03,\n",
       "       -1.27167803e+03,  2.74295729e+03, -1.85296279e+04, -5.72315272e+02,\n",
       "        1.98064141e+03,  0.00000000e+00,  4.46955295e+02, -1.44800664e+03,\n",
       "        1.68522372e+03, -5.33840462e+02, -2.05571392e+03,  3.96801230e+02,\n",
       "        6.58957736e+02,  8.37751599e+04, -7.08992849e+03,  4.11645324e+03,\n",
       "       -0.00000000e+00, -6.87156461e+03,  0.00000000e+00, -7.82290967e+04,\n",
       "       -0.00000000e+00,  5.74327928e+03,  8.63342753e+02, -3.38666078e+02,\n",
       "        0.00000000e+00,  2.33235189e+03, -3.91413640e+03, -0.00000000e+00,\n",
       "        5.38527311e+04, -0.00000000e+00, -0.00000000e+00,  0.00000000e+00,\n",
       "       -9.04861864e+03, -0.00000000e+00,  1.15128541e+03, -0.00000000e+00,\n",
       "        2.12715051e+01, -0.00000000e+00,  0.00000000e+00,  1.61159700e+03,\n",
       "       -0.00000000e+00, -0.00000000e+00,  1.08157042e+04, -0.00000000e+00,\n",
       "        1.06772408e+04,  0.00000000e+00, -2.95724929e+02,  8.02910859e+03,\n",
       "       -0.00000000e+00, -4.29976152e+03, -6.99676402e+03,  2.73188044e+03,\n",
       "       -0.00000000e+00, -9.91602308e+03,  0.00000000e+00,  0.00000000e+00])"
      ]
     },
     "execution_count": 35,
     "metadata": {},
     "output_type": "execute_result"
    }
   ],
   "source": [
    "# Number of Lasso params almost zero\n",
    "linreg_lasso.coef_"
   ]
  },
  {
   "cell_type": "code",
   "execution_count": 37,
   "metadata": {},
   "outputs": [
    {
     "name": "stdout",
     "output_type": "stream",
     "text": [
      "296\n",
      "0.26013513513513514\n"
     ]
    }
   ],
   "source": [
    "print(len(linreg_lasso.coef_))\n",
    "print(sum(abs(linreg_lasso.coef_) < 10**(-10))/ len(linreg_lasso.coef_))"
   ]
  },
  {
   "cell_type": "markdown",
   "metadata": {},
   "source": [
    "Lasso was very effective to essentially perform variable selection and remove about 25% of the variables from your model!"
   ]
  },
  {
   "cell_type": "markdown",
   "metadata": {},
   "source": [
    "## Put it all together"
   ]
  },
  {
   "cell_type": "markdown",
   "metadata": {},
   "source": [
    "To bring all of our work together lets take a moment to put all of our preprocessing steps for categorical and continuous variables into one function. This function should take in our features as a dataframe `X` and target as a Series `y` and return a training and test DataFrames with all of our preprocessed features along with training and test targets. "
   ]
  },
  {
   "cell_type": "code",
   "execution_count": 38,
   "metadata": {},
   "outputs": [],
   "source": [
    "def preprocess(X, y):\n",
    "    '''Takes in features and target and implements all preprocessing steps for categorical and continuous features returning \n",
    "    train and test DataFrames with targets'''\n",
    "    \n",
    "    # Train-test split (75-25), set seed to 10\n",
    "    X_train, X_test, y_train, y_test = train_test_split(X, y, random_state=10)\n",
    "    \n",
    "    # Remove \"object\"-type features from X\n",
    "    cont_features = [col for col in X.columns if X[col].dtype in [np.float64, np.int64]]\n",
    "\n",
    "    # Remove \"object\"-type features from X_train and X_test\n",
    "    X_train_cont = X_train.loc[:, cont_features]\n",
    "    X_test_cont = X_test.loc[:, cont_features]\n",
    "\n",
    "    # Impute missing values with median using SimpleImputer\n",
    "    impute = SimpleImputer(strategy='median')\n",
    "    X_train_imputed = impute.fit_transform(X_train_cont)\n",
    "    X_test_imputed = impute.fit_transform(X_test_cont)\n",
    "    \n",
    "    # Scale the train and test data\n",
    "    ss = StandardScaler()\n",
    "    X_train_imputed_scaled = ss.fit_transform(X_train_imputed)\n",
    "    X_test_imputed_scaled = ss.transform(X_test_imputed)\n",
    "\n",
    "    # Create X_cat which contains only the categorical variables\n",
    "    features_cat = [col for col in X.columns if X[col].dtype in [np.object]]\n",
    "    X_train_cat = X_train.loc[:, features_cat]\n",
    "    X_test_cat = X_test.loc[:, features_cat]\n",
    "\n",
    "    # Fill nans with a value indicating that that it is missing\n",
    "    X_train_cat.fillna(value='missing', inplace=True)\n",
    "    X_test_cat.fillna(value='missing', inplace=True)\n",
    "\n",
    "    # OneHotEncode categorical variables\n",
    "    ohe = OneHotEncoder(handle_unknown='ignore')\n",
    "\n",
    "    # Transform training and test sets\n",
    "    X_train_ohe = ohe.fit_transform(X_train_cat)\n",
    "    X_test_ohe = ohe.transform(X_test_cat)\n",
    "\n",
    "    # Convert these columns into a DataFrame\n",
    "    columns = ohe.get_feature_names(input_features=X_train_cat.columns)\n",
    "    cat_train_df = pd.DataFrame(X_train_ohe.todense(), columns=columns)\n",
    "    cat_test_df = pd.DataFrame(X_test_ohe.todense(), columns=columns)\n",
    "    \n",
    "    # Combine categorical and continuous features into the final dataframe\n",
    "    X_train_all = pd.concat([pd.DataFrame(X_train_imputed_scaled), cat_train_df], axis=1)\n",
    "    X_test_all = pd.concat([pd.DataFrame(X_test_imputed_scaled), cat_test_df], axis=1)\n",
    "    \n",
    "    return X_train_all, X_test_all, y_train, y_test"
   ]
  },
  {
   "cell_type": "markdown",
   "metadata": {},
   "source": [
    "### Graph the training and test error to find optimal alpha values\n",
    "\n",
    "Earlier we tested two values of alpha to see how it effected our MSE and the value of our coefficients. We could continue to guess values of alpha for our Ridge or Lasso regression one at a time to see which values minimize our loss, or we can test a range of values and pick the alpha which minimizes our MSE. Here is an example of how we would do this:  "
   ]
  },
  {
   "cell_type": "code",
   "execution_count": 39,
   "metadata": {},
   "outputs": [],
   "source": [
    "X_train_all, X_test_all, y_train, y_test = preprocess(X, y)\n",
    "\n",
    "train_mse = []\n",
    "test_mse = []\n",
    "alphas = []\n",
    "\n",
    "for alpha in np.linspace(0, 200, num=50):\n",
    "    lasso = Lasso(alpha=alpha)\n",
    "    lasso.fit(X_train_all, y_train)\n",
    "    \n",
    "    train_preds = lasso.predict(X_train_all)\n",
    "    train_mse.append(mean_squared_error(y_train, train_preds))\n",
    "    \n",
    "    test_preds = lasso.predict(X_test_all)\n",
    "    test_mse.append(mean_squared_error(y_test, test_preds))\n",
    "    \n",
    "    alphas.append(alpha)"
   ]
  },
  {
   "cell_type": "code",
   "execution_count": 40,
   "metadata": {},
   "outputs": [
    {
     "name": "stdout",
     "output_type": "stream",
     "text": [
      "Optimal Alpha Value: 40\n"
     ]
    },
    {
     "data": {
      "image/png": "[encoded data removed]",
      "text/plain": [
       "<Figure size 432x288 with 1 Axes>"
      ]
     },
     "metadata": {
      "needs_background": "light"
     },
     "output_type": "display_data"
    }
   ],
   "source": [
    "import matplotlib.pyplot as plt\n",
    "%matplotlib inline\n",
    "\n",
    "fig, ax = plt.subplots()\n",
    "ax.plot(alphas, train_mse, label='Train')\n",
    "ax.plot(alphas, test_mse, label='Test')\n",
    "ax.set_xlabel('Alpha')\n",
    "ax.set_ylabel('MSE')\n",
    "\n",
    "# np.argmin() returns the index of the minimum value in a list\n",
    "optimal_alpha = alphas[np.argmin(test_mse)]\n",
    "\n",
    "# Add a vertical line where the test MSE is minimized\n",
    "ax.axvline(optimal_alpha, color='black', linestyle='--')\n",
    "ax.legend();\n",
    "\n",
    "print(f'Optimal Alpha Value: {int(optimal_alpha)}')"
   ]
  },
  {
   "cell_type": "markdown",
   "metadata": {},
   "source": [
    "Take a look at this graph of our training and test MSE against alpha. Try to explain to yourself why the shapes of the training and test curves are this way. Make sure to think about what alpha represents and how it relates to overfitting vs underfitting."
   ]
  },
  {
   "cell_type": "markdown",
   "metadata": {},
   "source": [
    "## Summary\n",
    "\n",
    "Well done! You now know how to build Lasso and Ridge regression models, use them for feature selection and find an optimal value for $\\text{alpha}$. "
   ]
  }
 ],
 "metadata": {
  "kernelspec": {
   "display_name": "learn-env",
   "language": "python",
   "name": "learn-env"
  },
  "language_info": {
   "codemirror_mode": {
    "name": "ipython",
    "version": 3
   },
   "file_extension": ".py",
   "mimetype": "text/x-python",
   "name": "python",
   "nbconvert_exporter": "python",
   "pygments_lexer": "ipython3",
   "version": "3.6.9"
  },
  "toc": {
   "base_numbering": 1,
   "nav_menu": {},
   "number_sections": true,
   "sideBar": true,
   "skip_h1_title": false,
   "title_cell": "Table of Contents",
   "title_sidebar": "Contents",
   "toc_cell": false,
   "toc_position": {},
   "toc_section_display": true,
   "toc_window_display": false
  },
  "varInspector": {
   "cols": {
    "lenName": 16,
    "lenType": 16,
    "lenVar": 40
   },
   "kernels_config": {
    "python": {
     "delete_cmd_postfix": "",
     "delete_cmd_prefix": "del ",
     "library": "var_list.py",
     "varRefreshCmd": "print(var_dic_list())"
    },
    "r": {
     "delete_cmd_postfix": ") ",
     "delete_cmd_prefix": "rm(",
     "library": "var_list.r",
     "varRefreshCmd": "cat(var_dic_list()) "
    }
   },
   "types_to_exclude": [
    "module",
    "function",
    "builtin_function_or_method",
    "instance",
    "_Feature"
   ],
   "window_display": false
  }
 },
 "nbformat": 4,
 "nbformat_minor": 2
}
